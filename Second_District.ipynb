{
 "cells": [
  {
   "cell_type": "code",
   "execution_count": 77,
   "id": "17055f1b-91fb-4501-804b-f45da9d15cc3",
   "metadata": {},
   "outputs": [],
   "source": [
    "import json\n",
    "import requests\n",
    "import gzip\n",
    "import pandas as pd\n",
    "import numpy as np\n",
    "# import matplotlib.pyplot as plt\n",
    "# %matplotlib inline\n",
    "# import seaborn as sns\n",
    "import csv\n",
    "from time import sleep\n",
    "import win32com.client as client\n",
    "import smtplib\n",
    "from email.mime.multipart import MIMEMultipart\n",
    "from email.mime.text import MIMEText"
   ]
  },
  {
   "cell_type": "code",
   "execution_count": 78,
   "id": "ca5fafe5-4f27-4d10-a205-09571b7b195e",
   "metadata": {},
   "outputs": [],
   "source": [
    "data = ('../weather_api/city.list.json.gz')\n",
    "with gzip.open(data , 'rb') as f:\n",
    "    json_content = json.loads(f.read())\n",
    "    \n",
    "# DISTRICT_1\n",
    "KOHQ1 = [{'MN':'Wayzata'}]\n",
    "# DISTRICT_2\n",
    "SHAUN1 = [{'MN':'Bemidji'},{'MN':'Maple Lake'},{'MN':'Annandale'},{'MN':'Maple Plain'},{'MN':'Willmar'},{'MN':'Owatonna'},{'MN':'Waite Park'},{'MN':'Little Falls'},{'MN':'Albert Lea'},{'MN':'Waseca'},{'MN':'Austin'},{'MN':'Pillager'},{'MN':'Nisswa'},{'MN':'Baxter'},{'MN':'Princeton'},{'MN':'Alexandria'},{'MN':'St Cloud'},{'MN':'South Haven'},{'MN':'Pierz'},{'MN':'Clear Water'},{'MN':'Becker'},{'MN':'Rush City'},{'MN':'Hastings'},{'MN':'Big Lake'},{'MN':'Rochestar'},{'MN':'Buffalo'}]\n",
    "# DISTRICT_3\n",
    "EMILY1 = [{'ME':'Auburn'},{'ME':'Oxford'},{'ME':'Sanford'},{'ME':'Windham'},{'AR':'Paragould'},{'MO':'Billings'},{'MO':'Brookline'},{'MO':'Ozark'},{'MO':'Republic'},{'OH':'Tipp City'},{'NY':'Evans Mills'},{'NY':'Watertown'},{'TN':'Chattanooga'}]\n",
    "# DISTRICT_4\n",
    "JUSTIN1 = [{'SD':'Vermillion'},{'SD':'Elk Point'},{'SD':'Aberdeen'},{'WY':'Evansville'},{'KS':'Salina'},{'KS':'Hutchinson'},{'MT':'Billings'},{'WY':'Evansville'},{'WY':'Casper'},{'ND':'Valley City'},{'ND':'Minot'},{'ND':'Jamestown'},{'WY':'Cheyenne'},{'SD':'Milbank'},{'CA':'Twentynine Palms'}]\n"
   ]
  },
  {
   "cell_type": "code",
   "execution_count": 79,
   "id": "f907832e-a941-463f-8998-ebb9843764f0",
   "metadata": {},
   "outputs": [],
   "source": [
    "           \n",
    "def get_no(listt):                \n",
    "    list_=[]\n",
    "    for num in range(len(listt)):\n",
    "        for state,city in listt[num].items():\n",
    "            for i in range(len(json_content)): \n",
    "                if json_content[i]['country'] == 'US' and json_content[i]['name'] == city and json_content[i]['state'] == state:\n",
    "                    list_.append(json_content[i])\n",
    "    return list_\n",
    "                \n",
    "                \n",
    "\n",
    "                "
   ]
  },
  {
   "cell_type": "code",
   "execution_count": 80,
   "id": "1bbdfd61-ff1d-4245-a204-d5c65d844756",
   "metadata": {},
   "outputs": [],
   "source": [
    "#DISTRICT_1\n",
    "KOHQ2 = get_no(KOHQ1)\n",
    "#DISTRICT_2\n",
    "SHAUN2 = get_no(SHAUN1)\n",
    "#DISTRICT_3\n",
    "EMILY2 = get_no(EMILY1)\n",
    "#DISTRICT_4\n",
    "JUSTIN2 = get_no(JUSTIN1)"
   ]
  },
  {
   "cell_type": "code",
   "execution_count": 81,
   "id": "adae0a36-c691-49a2-90f4-5049b8fc970b",
   "metadata": {},
   "outputs": [],
   "source": [
    "def get_api_request(list2):\n",
    "    list_3=[]\n",
    "    for query in list2:\n",
    "\n",
    "        api_url2 = 'http://api.openweathermap.org/data/2.5/weather?id='+str(query['id'])+'&appid=5f0573bd11f9c05220677beb94d32b6f&units=imperial'\n",
    "        response = requests.get(api_url2)\n",
    "        list_3.append(response.json())\n",
    "    return list_3"
   ]
  },
  {
   "cell_type": "code",
   "execution_count": 82,
   "id": "09571adb-397a-4d74-b246-9d84d0f56622",
   "metadata": {},
   "outputs": [],
   "source": [
    "# DISTRICT_1\n",
    "KOHQ3 = get_api_request(KOHQ2)\n",
    "# DISTRICT_2\n",
    "SHAUN3 = get_api_request(SHAUN2)\n",
    "# DISTRICT_3\n",
    "EMILY3 = get_api_request(EMILY2)\n",
    "# DISTRICT_4\n",
    "JUSTIN3 = get_api_request(JUSTIN2)"
   ]
  },
  {
   "cell_type": "code",
   "execution_count": 83,
   "id": "fb2b142d-0bcc-486c-a576-430769def949",
   "metadata": {},
   "outputs": [],
   "source": [
    "def func(list4): \n",
    "    \n",
    "    #Converting the data to Pandas DataFrame\n",
    "    data = pd.DataFrame(list4)\n",
    "    #Copying the data just in case \n",
    "    data2 = data.copy(deep=False)\n",
    "    #Converting the series to str\n",
    "    data2['weather'] = data2['weather'].astype(str)  \n",
    "    #Cleaning weather series to get only the weather condition and id\n",
    "    data2['weather1'] = data2['weather'].map(lambda weather:weather.split(\"main': '\")[1].split(\"', 'description\")[0])\n",
    "    data2['id']= data2['weather'].map(lambda weather:weather.split(\"'id': \")[1].split(\", 'main'\")[0])\n",
    "    data3 = data2[['weather1','id','name','main']]\n",
    "    data3 = data3.rename(columns={'name':'city'},errors=\"raise\")  \n",
    "    #\n",
    "    data3 = data3.loc[(data3['weather1'] == ('Snow')) & (data3['id'] == '601') | (data3['id'] == '602') ]\n",
    "    #\n",
    "    return data3\n"
   ]
  },
  {
   "cell_type": "code",
   "execution_count": 84,
   "id": "8b4aa0a6-0b53-4179-9047-b3ab84e1da06",
   "metadata": {},
   "outputs": [],
   "source": [
    "# DISTRICT_1\n",
    "KOHQ4 = func(KOHQ3)\n",
    "html_table_KOHQ4 = KOHQ4.to_html()\n",
    "# DISTRICT_2\n",
    "SHAUN4 = func(SHAUN3)\n",
    "html_table_SHAUN4 = SHAUN4.to_html()\n",
    "# DISTRICT_3\n",
    "EMILY4 = func(EMILY3)\n",
    "html_table_EMILY4 = EMILY4.to_html()\n",
    "# DISTRICT_4\n",
    "JUSTIN4 = func(JUSTIN3)\n",
    "html_table_JUSTIN4 = JUSTIN4.to_html()\n"
   ]
  },
  {
   "cell_type": "code",
   "execution_count": 85,
   "id": "24e13e52-acc0-4694-b0bc-aa3f080ecff2",
   "metadata": {},
   "outputs": [
    {
     "data": {
      "text/html": [
       "<div>\n",
       "<style scoped>\n",
       "    .dataframe tbody tr th:only-of-type {\n",
       "        vertical-align: middle;\n",
       "    }\n",
       "\n",
       "    .dataframe tbody tr th {\n",
       "        vertical-align: top;\n",
       "    }\n",
       "\n",
       "    .dataframe thead th {\n",
       "        text-align: right;\n",
       "    }\n",
       "</style>\n",
       "<table border=\"1\" class=\"dataframe\">\n",
       "  <thead>\n",
       "    <tr style=\"text-align: right;\">\n",
       "      <th></th>\n",
       "      <th>weather1</th>\n",
       "      <th>id</th>\n",
       "      <th>city</th>\n",
       "      <th>main</th>\n",
       "    </tr>\n",
       "  </thead>\n",
       "  <tbody>\n",
       "  </tbody>\n",
       "</table>\n",
       "</div>"
      ],
      "text/plain": [
       "Empty DataFrame\n",
       "Columns: [weather1, id, city, main]\n",
       "Index: []"
      ]
     },
     "execution_count": 85,
     "metadata": {},
     "output_type": "execute_result"
    }
   ],
   "source": [
    "JUSTIN4"
   ]
  },
  {
   "cell_type": "code",
   "execution_count": 86,
   "id": "6d77d115-78a6-4dd7-acd1-e04369a57640",
   "metadata": {},
   "outputs": [],
   "source": [
    "def conditional_email_alert(dataframe_):\n",
    "    \n",
    "    for x in dataframe_['id']:\n",
    "        res = sum(1 for x in dataframe_['id'] if (x == '601')| (x == '602'))\n",
    "        return res\n",
    "    else:\n",
    "        return 0\n",
    "    "
   ]
  },
  {
   "cell_type": "code",
   "execution_count": 87,
   "id": "6ceca6a0-b2b2-4ebb-85c9-5fc2e44714c3",
   "metadata": {},
   "outputs": [],
   "source": [
    "# DISTRICT_1\n",
    "KOHQ5=conditional_email_alert(KOHQ4)\n",
    "# DISTRICT_2\n",
    "SHAUN5=conditional_email_alert(SHAUN4)\n",
    "# DISTRICT_3\n",
    "EMILY5 = conditional_email_alert(EMILY4)\n",
    "# DISTRICT_4\n",
    "JUSTIN5 = conditional_email_alert(JUSTIN4)"
   ]
  },
  {
   "cell_type": "code",
   "execution_count": 88,
   "id": "73f8a54c-f44a-4157-ba3b-a595a0a1e3cb",
   "metadata": {},
   "outputs": [
    {
     "data": {
      "text/plain": [
       "0"
      ]
     },
     "execution_count": 88,
     "metadata": {},
     "output_type": "execute_result"
    }
   ],
   "source": [
    "KOHQ5"
   ]
  },
  {
   "cell_type": "code",
   "execution_count": 89,
   "id": "28e4d25b-3083-485a-93d2-35505d799d08",
   "metadata": {},
   "outputs": [
    {
     "data": {
      "text/plain": [
       "0"
      ]
     },
     "execution_count": 89,
     "metadata": {},
     "output_type": "execute_result"
    }
   ],
   "source": [
    "SHAUN5"
   ]
  },
  {
   "cell_type": "code",
   "execution_count": 90,
   "id": "68d193c4-aed9-48a2-9b98-abc8246fcbf0",
   "metadata": {},
   "outputs": [
    {
     "data": {
      "text/plain": [
       "2"
      ]
     },
     "execution_count": 90,
     "metadata": {},
     "output_type": "execute_result"
    }
   ],
   "source": [
    "EMILY5"
   ]
  },
  {
   "cell_type": "code",
   "execution_count": 91,
   "id": "34be6559-c299-433a-9bd4-db89e580f102",
   "metadata": {},
   "outputs": [
    {
     "data": {
      "text/plain": [
       "0"
      ]
     },
     "execution_count": 91,
     "metadata": {},
     "output_type": "execute_result"
    }
   ],
   "source": [
    "JUSTIN5"
   ]
  },
  {
   "cell_type": "markdown",
   "id": "7e7a0108-6afc-42ad-ae14-47e90a836a60",
   "metadata": {},
   "source": [
    "#DISTRICT_1 EMAIL ALERT"
   ]
  },
  {
   "cell_type": "code",
   "execution_count": 92,
   "id": "825237c8-4b4f-4189-b2df-b640129d3e14",
   "metadata": {},
   "outputs": [],
   "source": [
    "#DISTRICT_1\n",
    "\n",
    "\n",
    "#Sending email to poeple who are listed in csv file\n",
    "if KOHQ5 >= 1:\n",
    "\n",
    "\n",
    "        # open distribution list\n",
    "        with open('DISTRICT_1.csv', 'r', newline='') as f:\n",
    "            reader = csv.reader(f)\n",
    "            distro = [row for row in reader]\n",
    "\n",
    "        # chunk distribution list into blocks of 30\n",
    "        chunks = [distro[x:x+30] for x in range(0, len(distro), 30)]\n",
    "\n",
    "        # create outlook instance\n",
    "        outlook = client.Dispatch('Outlook.Application')\n",
    "\n",
    "\n",
    "        # iterate through chunks and send mail\n",
    "        for chunk in chunks:\n",
    "            # iterate through each recipient in chunk and send mail\n",
    "            for name, address in chunk:\n",
    "                message = outlook.CreateItem(0)\n",
    "                message.To = address\n",
    "                message.Subject = \"KO Storage Snow & Weather Report\"\n",
    "                message.HTMLBody = '<h4 style=\"font-family:verdana;\">'+html_table_KOHQ4+'Real Time Weather Snow Report</h4><p style=\"font-family:verdana\">Note: Snow weather report runs twice daily and reports to you via e-mail only when it is snowing <p style=\"font-family:verdana\">Weather Source:</p><p style=\"font-family:verdana\">https://openweathermap.org/ </p> <p style=\"font-family:verdana\">See facilities above for the latest snowfall report</p><p style=\"font-family:verdana\">Please contact Varol if you would like to subscribe to weather alerts or report any issues,</p><p style=\"font-family:verdana\"> KO Storage</p><img src=\"KO (45).png\" alt=\"KO Storage logo\" width=\"300\" height=\"150\">'\n",
    "#                 message.HTMLBody = str(cloudy)\n",
    "                #message.Body = template.format(name)\n",
    "                message.Send()\n",
    "\n",
    "            # wait 60 seconds before sending next chunk\n",
    "            sleep(10)"
   ]
  },
  {
   "cell_type": "markdown",
   "id": "facc20c5-31be-43d9-9192-487cde5ea10b",
   "metadata": {},
   "source": [
    "#DISTRICT_2 EMAIL ALERT"
   ]
  },
  {
   "cell_type": "code",
   "execution_count": 93,
   "id": "52804436-1879-4544-99db-5b85509f99ec",
   "metadata": {},
   "outputs": [],
   "source": [
    "#DISTRICT_2\n",
    "\n",
    "\n",
    "#Sending email to poeple who are listed in csv file\n",
    "if SHAUN5 >= 1:\n",
    "\n",
    "\n",
    "        # open distribution list\n",
    "        with open('DISTRICT_2.csv', 'r', newline='') as f:\n",
    "            reader = csv.reader(f)\n",
    "            distro = [row for row in reader]\n",
    "\n",
    "        # chunk distribution list into blocks of 30\n",
    "        chunks = [distro[x:x+30] for x in range(0, len(distro), 30)]\n",
    "\n",
    "        # create outlook instance\n",
    "        outlook = client.Dispatch('Outlook.Application')\n",
    "\n",
    "\n",
    "        # iterate through chunks and send mail\n",
    "        for chunk in chunks:\n",
    "            # iterate through each recipient in chunk and send mail\n",
    "            for name, address in chunk:\n",
    "                message = outlook.CreateItem(0)\n",
    "                message.To = address\n",
    "                message.Subject = \"KO Storage Snow & Weather Report\"\n",
    "                message.HTMLBody = '<h4 style=\"font-family:verdana;\">'+html_table_SHAUN4+'Real Time Weather Snow Report</h4><p style=\"font-family:verdana\">Note: Snow weather report runs twice daily and reports to you via e-mail only when it is snowing heavily! <p style=\"font-family:verdana\">Weather Source:</p><p style=\"font-family:verdana\">https://openweathermap.org/ </p> <p style=\"font-family:verdana\">See facilities above for the latest snowfall report</p><p style=\"font-family:verdana\">Please contact Varol if you would like to subscribe to weather alerts or report any issues,</p><p style=\"font-family:verdana\"> KO Storage</p><img src=\"KO (45).png\" alt=\"KO Storage logo\" width=\"300\" height=\"150\">'\n",
    "#                 message.HTMLBody = str(cloudy)\n",
    "                #message.Body = template.format(name)\n",
    "                message.Send()\n",
    "\n",
    "            # wait 60 seconds before sending next chunk\n",
    "            sleep(10)"
   ]
  },
  {
   "cell_type": "markdown",
   "id": "5d183539-3659-4ed8-a2ad-f41be40e7930",
   "metadata": {},
   "source": [
    "#DISTRICT_3 EMAIL ALERT"
   ]
  },
  {
   "cell_type": "code",
   "execution_count": 94,
   "id": "6ff9a3e0-d949-43c7-aee2-886cf9e53882",
   "metadata": {},
   "outputs": [],
   "source": [
    "#DISTRICT_2\n",
    "\n",
    "\n",
    "#Sending email to poeple who are listed in csv file\n",
    "if EMILY5 >= 1:\n",
    "\n",
    "\n",
    "        # open distribution list\n",
    "        with open('DISTRICT_2.csv', 'r', newline='') as f:\n",
    "            reader = csv.reader(f)\n",
    "            distro = [row for row in reader]\n",
    "\n",
    "        # chunk distribution list into blocks of 30\n",
    "        chunks = [distro[x:x+30] for x in range(0, len(distro), 30)]\n",
    "\n",
    "        # create outlook instance\n",
    "        outlook = client.Dispatch('Outlook.Application')\n",
    "\n",
    "\n",
    "        # iterate through chunks and send mail\n",
    "        for chunk in chunks:\n",
    "            # iterate through each recipient in chunk and send mail\n",
    "            for name, address in chunk:\n",
    "                message = outlook.CreateItem(0)\n",
    "                message.To = address\n",
    "                message.Subject = \"KO Storage Snow & Weather Report\"\n",
    "                message.HTMLBody = '<h4 style=\"font-family:verdana;\">'+html_table_EMILY4+'Real Time Weather Snow Report</h4><p style=\"font-family:verdana\">Note: Snow weather report runs twice daily and reports to you via e-mail only when it is snowing heavily! <p style=\"font-family:verdana\">Weather Source:</p><p style=\"font-family:verdana\">https://openweathermap.org/ </p> <p style=\"font-family:verdana\">See facilities above for the latest snowfall report</p><p style=\"font-family:verdana\">Please contact Varol if you would like to subscribe to weather alerts or report any issues,</p><p style=\"font-family:verdana\"> KO Storage</p><img src=\"KO (45).png\" alt=\"KO Storage logo\" width=\"300\" height=\"150\">'\n",
    "#                 message.HTMLBody = str(cloudy)\n",
    "                #message.Body = template.format(name)\n",
    "                message.Send()\n",
    "\n",
    "            # wait 60 seconds before sending next chunk\n",
    "            sleep(10)"
   ]
  },
  {
   "cell_type": "markdown",
   "id": "1fee4960-b1db-4b30-bac5-03540a0cf868",
   "metadata": {},
   "source": [
    "#DISTRICT_4 EMAIL ALERT"
   ]
  },
  {
   "cell_type": "code",
   "execution_count": 95,
   "id": "eacfb6d3-fec6-40aa-87d3-1fe100fdb6fa",
   "metadata": {},
   "outputs": [],
   "source": [
    "#DISTRICT_4\n",
    "\n",
    "\n",
    "#Sending email to poeple who are listed in csv file\n",
    "if JUSTIN5 >= 1:\n",
    "\n",
    "\n",
    "        # open distribution list\n",
    "        with open('DISTRICT_1.csv', 'r', newline='') as f:\n",
    "            reader = csv.reader(f)\n",
    "            distro = [row for row in reader]\n",
    "\n",
    "        # chunk distribution list into blocks of 30\n",
    "        chunks = [distro[x:x+30] for x in range(0, len(distro), 30)]\n",
    "\n",
    "        # create outlook instance\n",
    "        outlook = client.Dispatch('Outlook.Application')\n",
    "\n",
    "\n",
    "        # iterate through chunks and send mail\n",
    "        for chunk in chunks:\n",
    "            # iterate through each recipient in chunk and send mail\n",
    "            for name, address in chunk:\n",
    "                message = outlook.CreateItem(0)\n",
    "                message.To = address\n",
    "                message.Subject = \"KO Storage Snow & Weather Report\"\n",
    "                message.HTMLBody = '<h4 style=\"font-family:verdana;\">'+html_table_JUSTIN4+'Real Time Weather Snow Report</h4><p style=\"font-family:verdana\">Note: Snow weather report runs twice daily and reports to you via e-mail only when it is snowing heavily! <p style=\"font-family:verdana\">Weather Source:</p><p style=\"font-family:verdana\">https://openweathermap.org/ </p> <p style=\"font-family:verdana\">See facilities above for the latest snowfall report</p><p style=\"font-family:verdana\">Please contact Varol if you would like to subscribe to weather alerts or report any issues,</p><p style=\"font-family:verdana\"> KO Storage</p><img src=\"KO (45).png\" alt=\"KO Storage logo\" width=\"300\" height=\"150\">'\n",
    "#                 message.HTMLBody = str(cloudy)\n",
    "                #message.Body = template.format(name)\n",
    "                message.Send()\n",
    "\n",
    "            # wait 60 seconds before sending next chunk\n",
    "            sleep(10)"
   ]
  },
  {
   "cell_type": "code",
   "execution_count": null,
   "id": "3444a568-b9ed-489e-9fdd-372cc51f6c69",
   "metadata": {},
   "outputs": [],
   "source": []
  }
 ],
 "metadata": {
  "kernelspec": {
   "display_name": "Python 3",
   "language": "python",
   "name": "python3"
  },
  "language_info": {
   "codemirror_mode": {
    "name": "ipython",
    "version": 3
   },
   "file_extension": ".py",
   "mimetype": "text/x-python",
   "name": "python",
   "nbconvert_exporter": "python",
   "pygments_lexer": "ipython3",
   "version": "3.8.8"
  }
 },
 "nbformat": 4,
 "nbformat_minor": 5
}
